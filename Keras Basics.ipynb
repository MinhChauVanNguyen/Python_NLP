{
 "cells": [
  {
   "cell_type": "code",
   "execution_count": 1,
   "id": "native-dragon",
   "metadata": {},
   "outputs": [],
   "source": [
    "import numpy as np\n",
    "from sklearn.datasets import load_iris"
   ]
  },
  {
   "cell_type": "code",
   "execution_count": 2,
   "id": "clean-cargo",
   "metadata": {},
   "outputs": [],
   "source": [
    "iris = load_iris()"
   ]
  },
  {
   "cell_type": "code",
   "execution_count": 3,
   "id": "dressed-extension",
   "metadata": {},
   "outputs": [
    {
     "name": "stdout",
     "output_type": "stream",
     "text": [
      ".. _iris_dataset:\n",
      "\n",
      "Iris plants dataset\n",
      "--------------------\n",
      "\n",
      "**Data Set Characteristics:**\n",
      "\n",
      "    :Number of Instances: 150 (50 in each of three classes)\n",
      "    :Number of Attributes: 4 numeric, predictive attributes and the class\n",
      "    :Attribute Information:\n",
      "        - sepal length in cm\n",
      "        - sepal width in cm\n",
      "        - petal length in cm\n",
      "        - petal width in cm\n",
      "        - class:\n",
      "                - Iris-Setosa\n",
      "                - Iris-Versicolour\n",
      "                - Iris-Virginica\n",
      "                \n",
      "    :Summary Statistics:\n",
      "\n",
      "    ============== ==== ==== ======= ===== ====================\n",
      "                    Min  Max   Mean    SD   Class Correlation\n",
      "    ============== ==== ==== ======= ===== ====================\n",
      "    sepal length:   4.3  7.9   5.84   0.83    0.7826\n",
      "    sepal width:    2.0  4.4   3.05   0.43   -0.4194\n",
      "    petal length:   1.0  6.9   3.76   1.76    0.9490  (high!)\n",
      "    petal width:    0.1  2.5   1.20   0.76    0.9565  (high!)\n",
      "    ============== ==== ==== ======= ===== ====================\n",
      "\n",
      "    :Missing Attribute Values: None\n",
      "    :Class Distribution: 33.3% for each of 3 classes.\n",
      "    :Creator: R.A. Fisher\n",
      "    :Donor: Michael Marshall (MARSHALL%PLU@io.arc.nasa.gov)\n",
      "    :Date: July, 1988\n",
      "\n",
      "The famous Iris database, first used by Sir R.A. Fisher. The dataset is taken\n",
      "from Fisher's paper. Note that it's the same as in R, but not as in the UCI\n",
      "Machine Learning Repository, which has two wrong data points.\n",
      "\n",
      "This is perhaps the best known database to be found in the\n",
      "pattern recognition literature.  Fisher's paper is a classic in the field and\n",
      "is referenced frequently to this day.  (See Duda & Hart, for example.)  The\n",
      "data set contains 3 classes of 50 instances each, where each class refers to a\n",
      "type of iris plant.  One class is linearly separable from the other 2; the\n",
      "latter are NOT linearly separable from each other.\n",
      "\n",
      ".. topic:: References\n",
      "\n",
      "   - Fisher, R.A. \"The use of multiple measurements in taxonomic problems\"\n",
      "     Annual Eugenics, 7, Part II, 179-188 (1936); also in \"Contributions to\n",
      "     Mathematical Statistics\" (John Wiley, NY, 1950).\n",
      "   - Duda, R.O., & Hart, P.E. (1973) Pattern Classification and Scene Analysis.\n",
      "     (Q327.D83) John Wiley & Sons.  ISBN 0-471-22361-1.  See page 218.\n",
      "   - Dasarathy, B.V. (1980) \"Nosing Around the Neighborhood: A New System\n",
      "     Structure and Classification Rule for Recognition in Partially Exposed\n",
      "     Environments\".  IEEE Transactions on Pattern Analysis and Machine\n",
      "     Intelligence, Vol. PAMI-2, No. 1, 67-71.\n",
      "   - Gates, G.W. (1972) \"The Reduced Nearest Neighbor Rule\".  IEEE Transactions\n",
      "     on Information Theory, May 1972, 431-433.\n",
      "   - See also: 1988 MLC Proceedings, 54-64.  Cheeseman et al\"s AUTOCLASS II\n",
      "     conceptual clustering system finds 3 classes in the data.\n",
      "   - Many, many more ...\n"
     ]
    }
   ],
   "source": [
    "print(iris.DESCR)"
   ]
  },
  {
   "cell_type": "code",
   "execution_count": 5,
   "id": "norman-falls",
   "metadata": {},
   "outputs": [],
   "source": [
    "X = iris.data\n",
    "y = iris.target"
   ]
  },
  {
   "cell_type": "markdown",
   "id": "corrected-judgment",
   "metadata": {},
   "source": [
    "# One hot encoding"
   ]
  },
  {
   "cell_type": "code",
   "execution_count": 6,
   "id": "collect-peace",
   "metadata": {},
   "outputs": [
    {
     "name": "stderr",
     "output_type": "stream",
     "text": [
      "Using TensorFlow backend.\n"
     ]
    }
   ],
   "source": [
    "from keras.utils import to_categorical"
   ]
  },
  {
   "cell_type": "code",
   "execution_count": 7,
   "id": "reflected-black",
   "metadata": {},
   "outputs": [],
   "source": [
    "y = to_categorical(y)"
   ]
  },
  {
   "cell_type": "code",
   "execution_count": 8,
   "id": "automated-isolation",
   "metadata": {},
   "outputs": [],
   "source": [
    "from sklearn.model_selection import train_test_split"
   ]
  },
  {
   "cell_type": "code",
   "execution_count": 9,
   "id": "mathematical-cattle",
   "metadata": {},
   "outputs": [],
   "source": [
    "X_train, X_test, y_train, y_test = train_test_split(X, y, test_size=0.33, random_state=42)"
   ]
  },
  {
   "cell_type": "code",
   "execution_count": 10,
   "id": "positive-belarus",
   "metadata": {},
   "outputs": [],
   "source": [
    "from sklearn.preprocessing import MinMaxScaler"
   ]
  },
  {
   "cell_type": "markdown",
   "id": "included-perfume",
   "metadata": {},
   "source": [
    "# Normalization Scaler"
   ]
  },
  {
   "cell_type": "code",
   "execution_count": 15,
   "id": "intimate-strain",
   "metadata": {},
   "outputs": [],
   "source": [
    "scaled_object = MinMaxScaler()"
   ]
  },
  {
   "cell_type": "code",
   "execution_count": 16,
   "id": "eight-integral",
   "metadata": {},
   "outputs": [
    {
     "data": {
      "text/plain": [
       "MinMaxScaler(copy=True, feature_range=(0, 1))"
      ]
     },
     "execution_count": 16,
     "metadata": {},
     "output_type": "execute_result"
    }
   ],
   "source": [
    "scaled_object.fit(X_train)"
   ]
  },
  {
   "cell_type": "code",
   "execution_count": 19,
   "id": "standard-psychiatry",
   "metadata": {},
   "outputs": [],
   "source": [
    "scaled_X_train = scaled_object.transform(X_train)\n",
    "scaled_X_test = scaled_object.transform(X_test)"
   ]
  },
  {
   "cell_type": "code",
   "execution_count": 22,
   "id": "behind-crown",
   "metadata": {},
   "outputs": [],
   "source": [
    "from keras.models import Sequential\n",
    "from keras.layers import Dense"
   ]
  },
  {
   "cell_type": "code",
   "execution_count": 26,
   "id": "protective-avenue",
   "metadata": {},
   "outputs": [],
   "source": [
    "model = Sequential()\n",
    "\n",
    "# Input layer\n",
    "model.add(Dense(\n",
    "    8,                   #neurons\n",
    "    input_dim=4,         #4 features\n",
    "    activation='relu')\n",
    ")\n",
    "\n",
    "# Hidden Layer\n",
    "model.add(Dense(\n",
    "    8,                   #neurons\n",
    "    input_dim=4,         #4 features\n",
    "    activation='relu')\n",
    ")\n",
    "\n",
    "# Output Layer\n",
    "model.add(Dense(\n",
    "    3,                   #neurons\n",
    "    input_dim=4,         #4 features\n",
    "    activation='softmax')\n",
    ")\n",
    "\n",
    "model.compile(loss='categorical_crossentropy', optimizer='adam', metrics=['accuracy'])"
   ]
  },
  {
   "cell_type": "code",
   "execution_count": 27,
   "id": "special-arrival",
   "metadata": {},
   "outputs": [
    {
     "name": "stdout",
     "output_type": "stream",
     "text": [
      "Model: \"sequential_4\"\n",
      "_________________________________________________________________\n",
      "Layer (type)                 Output Shape              Param #   \n",
      "=================================================================\n",
      "dense_10 (Dense)             (None, 8)                 40        \n",
      "_________________________________________________________________\n",
      "dense_11 (Dense)             (None, 8)                 72        \n",
      "_________________________________________________________________\n",
      "dense_12 (Dense)             (None, 3)                 27        \n",
      "=================================================================\n",
      "Total params: 139\n",
      "Trainable params: 139\n",
      "Non-trainable params: 0\n",
      "_________________________________________________________________\n"
     ]
    }
   ],
   "source": [
    "model.summary()"
   ]
  },
  {
   "cell_type": "code",
   "execution_count": 28,
   "id": "satellite-request",
   "metadata": {},
   "outputs": [
    {
     "name": "stdout",
     "output_type": "stream",
     "text": [
      "WARNING:tensorflow:From C:\\Users\\chamin\\OneDrive\\envs\\nlp_course\\lib\\site-packages\\tensorflow\\python\\ops\\math_ops.py:3066: to_int32 (from tensorflow.python.ops.math_ops) is deprecated and will be removed in a future version.\n",
      "Instructions for updating:\n",
      "Use tf.cast instead.\n",
      "Epoch 1/150\n",
      " - 1s - loss: 1.0924 - accuracy: 0.3500\n",
      "Epoch 2/150\n",
      " - 0s - loss: 1.0815 - accuracy: 0.3500\n",
      "Epoch 3/150\n",
      " - 0s - loss: 1.0708 - accuracy: 0.3500\n",
      "Epoch 4/150\n",
      " - 0s - loss: 1.0606 - accuracy: 0.3500\n",
      "Epoch 5/150\n",
      " - 0s - loss: 1.0502 - accuracy: 0.3500\n",
      "Epoch 6/150\n",
      " - 0s - loss: 1.0414 - accuracy: 0.3500\n",
      "Epoch 7/150\n",
      " - 0s - loss: 1.0327 - accuracy: 0.3500\n",
      "Epoch 8/150\n",
      " - 0s - loss: 1.0236 - accuracy: 0.3500\n",
      "Epoch 9/150\n",
      " - 0s - loss: 1.0134 - accuracy: 0.3500\n",
      "Epoch 10/150\n",
      " - 0s - loss: 1.0039 - accuracy: 0.3400\n",
      "Epoch 11/150\n",
      " - 0s - loss: 0.9933 - accuracy: 0.3500\n",
      "Epoch 12/150\n",
      " - 0s - loss: 0.9827 - accuracy: 0.3300\n",
      "Epoch 13/150\n",
      " - 0s - loss: 0.9723 - accuracy: 0.3200\n",
      "Epoch 14/150\n",
      " - 0s - loss: 0.9621 - accuracy: 0.3300\n",
      "Epoch 15/150\n",
      " - 0s - loss: 0.9522 - accuracy: 0.3600\n",
      "Epoch 16/150\n",
      " - 0s - loss: 0.9426 - accuracy: 0.3500\n",
      "Epoch 17/150\n",
      " - 0s - loss: 0.9331 - accuracy: 0.3800\n",
      "Epoch 18/150\n",
      " - 0s - loss: 0.9245 - accuracy: 0.4500\n",
      "Epoch 19/150\n",
      " - 0s - loss: 0.9157 - accuracy: 0.4700\n",
      "Epoch 20/150\n",
      " - 0s - loss: 0.9076 - accuracy: 0.5000\n",
      "Epoch 21/150\n",
      " - 0s - loss: 0.8990 - accuracy: 0.5400\n",
      "Epoch 22/150\n",
      " - 0s - loss: 0.8911 - accuracy: 0.5500\n",
      "Epoch 23/150\n",
      " - 0s - loss: 0.8835 - accuracy: 0.5600\n",
      "Epoch 24/150\n",
      " - 0s - loss: 0.8758 - accuracy: 0.6100\n",
      "Epoch 25/150\n",
      " - 0s - loss: 0.8676 - accuracy: 0.6400\n",
      "Epoch 26/150\n",
      " - 0s - loss: 0.8608 - accuracy: 0.6400\n",
      "Epoch 27/150\n",
      " - 0s - loss: 0.8534 - accuracy: 0.6400\n",
      "Epoch 28/150\n",
      " - 0s - loss: 0.8462 - accuracy: 0.6400\n",
      "Epoch 29/150\n",
      " - 0s - loss: 0.8403 - accuracy: 0.6400\n",
      "Epoch 30/150\n",
      " - 0s - loss: 0.8341 - accuracy: 0.6400\n",
      "Epoch 31/150\n",
      " - 0s - loss: 0.8286 - accuracy: 0.6400\n",
      "Epoch 32/150\n",
      " - 0s - loss: 0.8230 - accuracy: 0.6400\n",
      "Epoch 33/150\n",
      " - 0s - loss: 0.8175 - accuracy: 0.6400\n",
      "Epoch 34/150\n",
      " - 0s - loss: 0.8123 - accuracy: 0.6400\n",
      "Epoch 35/150\n",
      " - 0s - loss: 0.8066 - accuracy: 0.6400\n",
      "Epoch 36/150\n",
      " - 0s - loss: 0.8015 - accuracy: 0.6400\n",
      "Epoch 37/150\n",
      " - 0s - loss: 0.7962 - accuracy: 0.6400\n",
      "Epoch 38/150\n",
      " - 0s - loss: 0.7911 - accuracy: 0.6400\n",
      "Epoch 39/150\n",
      " - 0s - loss: 0.7859 - accuracy: 0.6400\n",
      "Epoch 40/150\n",
      " - 0s - loss: 0.7805 - accuracy: 0.6400\n",
      "Epoch 41/150\n",
      " - 0s - loss: 0.7753 - accuracy: 0.6400\n",
      "Epoch 42/150\n",
      " - 0s - loss: 0.7706 - accuracy: 0.6400\n",
      "Epoch 43/150\n",
      " - 0s - loss: 0.7653 - accuracy: 0.6400\n",
      "Epoch 44/150\n",
      " - 0s - loss: 0.7600 - accuracy: 0.6400\n",
      "Epoch 45/150\n",
      " - 0s - loss: 0.7557 - accuracy: 0.6400\n",
      "Epoch 46/150\n",
      " - 0s - loss: 0.7504 - accuracy: 0.6400\n",
      "Epoch 47/150\n",
      " - 0s - loss: 0.7454 - accuracy: 0.6400\n",
      "Epoch 48/150\n",
      " - 0s - loss: 0.7403 - accuracy: 0.6400\n",
      "Epoch 49/150\n",
      " - 0s - loss: 0.7356 - accuracy: 0.6400\n",
      "Epoch 50/150\n",
      " - 0s - loss: 0.7306 - accuracy: 0.6400\n",
      "Epoch 51/150\n",
      " - 0s - loss: 0.7259 - accuracy: 0.6400\n",
      "Epoch 52/150\n",
      " - 0s - loss: 0.7206 - accuracy: 0.6500\n",
      "Epoch 53/150\n",
      " - 0s - loss: 0.7152 - accuracy: 0.6500\n",
      "Epoch 54/150\n",
      " - 0s - loss: 0.7099 - accuracy: 0.6500\n",
      "Epoch 55/150\n",
      " - 0s - loss: 0.7045 - accuracy: 0.6500\n",
      "Epoch 56/150\n",
      " - 0s - loss: 0.6995 - accuracy: 0.6500\n",
      "Epoch 57/150\n",
      " - 0s - loss: 0.6942 - accuracy: 0.6500\n",
      "Epoch 58/150\n",
      " - 0s - loss: 0.6893 - accuracy: 0.6500\n",
      "Epoch 59/150\n",
      " - 0s - loss: 0.6841 - accuracy: 0.6500\n",
      "Epoch 60/150\n",
      " - 0s - loss: 0.6792 - accuracy: 0.6500\n",
      "Epoch 61/150\n",
      " - 0s - loss: 0.6739 - accuracy: 0.6500\n",
      "Epoch 62/150\n",
      " - 0s - loss: 0.6687 - accuracy: 0.6500\n",
      "Epoch 63/150\n",
      " - 0s - loss: 0.6634 - accuracy: 0.6500\n",
      "Epoch 64/150\n",
      " - 0s - loss: 0.6580 - accuracy: 0.6500\n",
      "Epoch 65/150\n",
      " - 0s - loss: 0.6527 - accuracy: 0.6500\n",
      "Epoch 66/150\n",
      " - 0s - loss: 0.6474 - accuracy: 0.6500\n",
      "Epoch 67/150\n",
      " - 0s - loss: 0.6421 - accuracy: 0.6500\n",
      "Epoch 68/150\n",
      " - 0s - loss: 0.6369 - accuracy: 0.6500\n",
      "Epoch 69/150\n",
      " - 0s - loss: 0.6318 - accuracy: 0.6500\n",
      "Epoch 70/150\n",
      " - 0s - loss: 0.6268 - accuracy: 0.6500\n",
      "Epoch 71/150\n",
      " - 0s - loss: 0.6222 - accuracy: 0.6600\n",
      "Epoch 72/150\n",
      " - 0s - loss: 0.6174 - accuracy: 0.6600\n",
      "Epoch 73/150\n",
      " - 0s - loss: 0.6127 - accuracy: 0.6700\n",
      "Epoch 74/150\n",
      " - 0s - loss: 0.6080 - accuracy: 0.6800\n",
      "Epoch 75/150\n",
      " - 0s - loss: 0.6033 - accuracy: 0.6900\n",
      "Epoch 76/150\n",
      " - 0s - loss: 0.5985 - accuracy: 0.7100\n",
      "Epoch 77/150\n",
      " - 0s - loss: 0.5939 - accuracy: 0.7300\n",
      "Epoch 78/150\n",
      " - 0s - loss: 0.5895 - accuracy: 0.7400\n",
      "Epoch 79/150\n",
      " - 0s - loss: 0.5847 - accuracy: 0.7500\n",
      "Epoch 80/150\n",
      " - 0s - loss: 0.5802 - accuracy: 0.7600\n",
      "Epoch 81/150\n",
      " - 0s - loss: 0.5761 - accuracy: 0.7800\n",
      "Epoch 82/150\n",
      " - 0s - loss: 0.5716 - accuracy: 0.7800\n",
      "Epoch 83/150\n",
      " - 0s - loss: 0.5673 - accuracy: 0.7700\n",
      "Epoch 84/150\n",
      " - 0s - loss: 0.5642 - accuracy: 0.7600\n",
      "Epoch 85/150\n",
      " - 0s - loss: 0.5590 - accuracy: 0.7600\n",
      "Epoch 86/150\n",
      " - 0s - loss: 0.5555 - accuracy: 0.8000\n",
      "Epoch 87/150\n",
      " - 0s - loss: 0.5520 - accuracy: 0.8400\n",
      "Epoch 88/150\n",
      " - 0s - loss: 0.5486 - accuracy: 0.8500\n",
      "Epoch 89/150\n",
      " - 0s - loss: 0.5448 - accuracy: 0.8600\n",
      "Epoch 90/150\n",
      " - 0s - loss: 0.5410 - accuracy: 0.8700\n",
      "Epoch 91/150\n",
      " - 0s - loss: 0.5369 - accuracy: 0.8200\n",
      "Epoch 92/150\n",
      " - 0s - loss: 0.5327 - accuracy: 0.7900\n",
      "Epoch 93/150\n",
      " - 0s - loss: 0.5289 - accuracy: 0.7300\n",
      "Epoch 94/150\n",
      " - 0s - loss: 0.5258 - accuracy: 0.7200\n",
      "Epoch 95/150\n",
      " - 0s - loss: 0.5223 - accuracy: 0.7100\n",
      "Epoch 96/150\n",
      " - 0s - loss: 0.5185 - accuracy: 0.7200\n",
      "Epoch 97/150\n",
      " - 0s - loss: 0.5148 - accuracy: 0.7600\n",
      "Epoch 98/150\n",
      " - 0s - loss: 0.5118 - accuracy: 0.7800\n",
      "Epoch 99/150\n",
      " - 0s - loss: 0.5098 - accuracy: 0.8500\n",
      "Epoch 100/150\n",
      " - 0s - loss: 0.5057 - accuracy: 0.8800\n",
      "Epoch 101/150\n",
      " - 0s - loss: 0.5027 - accuracy: 0.8800\n",
      "Epoch 102/150\n",
      " - 0s - loss: 0.4990 - accuracy: 0.8600\n",
      "Epoch 103/150\n",
      " - 0s - loss: 0.4962 - accuracy: 0.8200\n",
      "Epoch 104/150\n",
      " - 0s - loss: 0.4935 - accuracy: 0.7800\n",
      "Epoch 105/150\n",
      " - 0s - loss: 0.4904 - accuracy: 0.7800\n",
      "Epoch 106/150\n",
      " - 0s - loss: 0.4876 - accuracy: 0.7700\n",
      "Epoch 107/150\n",
      " - 0s - loss: 0.4848 - accuracy: 0.7600\n",
      "Epoch 108/150\n",
      " - 0s - loss: 0.4822 - accuracy: 0.7400\n",
      "Epoch 109/150\n",
      " - 0s - loss: 0.4801 - accuracy: 0.7400\n",
      "Epoch 110/150\n",
      " - 0s - loss: 0.4769 - accuracy: 0.7500\n",
      "Epoch 111/150\n",
      " - 0s - loss: 0.4734 - accuracy: 0.7800\n",
      "Epoch 112/150\n",
      " - 0s - loss: 0.4700 - accuracy: 0.8200\n",
      "Epoch 113/150\n",
      " - 0s - loss: 0.4675 - accuracy: 0.8700\n",
      "Epoch 114/150\n",
      " - 0s - loss: 0.4650 - accuracy: 0.8800\n",
      "Epoch 115/150\n",
      " - 0s - loss: 0.4623 - accuracy: 0.9000\n",
      "Epoch 116/150\n",
      " - 0s - loss: 0.4600 - accuracy: 0.8900\n",
      "Epoch 117/150\n",
      " - 0s - loss: 0.4571 - accuracy: 0.8900\n",
      "Epoch 118/150\n",
      " - 0s - loss: 0.4544 - accuracy: 0.9000\n",
      "Epoch 119/150\n",
      " - 0s - loss: 0.4518 - accuracy: 0.9000\n",
      "Epoch 120/150\n",
      " - 0s - loss: 0.4492 - accuracy: 0.9000\n",
      "Epoch 121/150\n",
      " - 0s - loss: 0.4469 - accuracy: 0.9000\n",
      "Epoch 122/150\n",
      " - 0s - loss: 0.4438 - accuracy: 0.9100\n",
      "Epoch 123/150\n",
      " - 0s - loss: 0.4421 - accuracy: 0.9200\n",
      "Epoch 124/150\n",
      " - 0s - loss: 0.4398 - accuracy: 0.9300\n",
      "Epoch 125/150\n",
      " - 0s - loss: 0.4374 - accuracy: 0.9200\n",
      "Epoch 126/150\n",
      " - 0s - loss: 0.4346 - accuracy: 0.9100\n",
      "Epoch 127/150\n",
      " - 0s - loss: 0.4326 - accuracy: 0.9200\n",
      "Epoch 128/150\n",
      " - 0s - loss: 0.4303 - accuracy: 0.9200\n",
      "Epoch 129/150\n",
      " - 0s - loss: 0.4284 - accuracy: 0.9200\n",
      "Epoch 130/150\n",
      " - 0s - loss: 0.4263 - accuracy: 0.9100\n",
      "Epoch 131/150\n",
      " - 0s - loss: 0.4238 - accuracy: 0.9000\n",
      "Epoch 132/150\n",
      " - 0s - loss: 0.4212 - accuracy: 0.9000\n",
      "Epoch 133/150\n",
      " - 0s - loss: 0.4188 - accuracy: 0.9000\n",
      "Epoch 134/150\n",
      " - 0s - loss: 0.4167 - accuracy: 0.9000\n",
      "Epoch 135/150\n",
      " - 0s - loss: 0.4141 - accuracy: 0.9100\n",
      "Epoch 136/150\n",
      " - 0s - loss: 0.4117 - accuracy: 0.9100\n",
      "Epoch 137/150\n",
      " - 0s - loss: 0.4092 - accuracy: 0.9100\n",
      "Epoch 138/150\n",
      " - 0s - loss: 0.4065 - accuracy: 0.9100\n",
      "Epoch 139/150\n",
      " - 0s - loss: 0.4042 - accuracy: 0.9100\n",
      "Epoch 140/150\n",
      " - 0s - loss: 0.4019 - accuracy: 0.9200\n",
      "Epoch 141/150\n",
      " - 0s - loss: 0.3992 - accuracy: 0.9300\n",
      "Epoch 142/150\n",
      " - 0s - loss: 0.3965 - accuracy: 0.9300\n",
      "Epoch 143/150\n",
      " - 0s - loss: 0.3952 - accuracy: 0.9300\n",
      "Epoch 144/150\n",
      " - 0s - loss: 0.3921 - accuracy: 0.9400\n",
      "Epoch 145/150\n",
      " - 0s - loss: 0.3894 - accuracy: 0.9300\n",
      "Epoch 146/150\n",
      " - 0s - loss: 0.3875 - accuracy: 0.9300\n",
      "Epoch 147/150\n",
      " - 0s - loss: 0.3856 - accuracy: 0.9100\n",
      "Epoch 148/150\n",
      " - 0s - loss: 0.3842 - accuracy: 0.9100\n",
      "Epoch 149/150\n",
      " - 0s - loss: 0.3816 - accuracy: 0.9000\n"
     ]
    },
    {
     "name": "stdout",
     "output_type": "stream",
     "text": [
      "Epoch 150/150\n",
      " - 0s - loss: 0.3789 - accuracy: 0.9300\n"
     ]
    },
    {
     "data": {
      "text/plain": [
       "<keras.callbacks.callbacks.History at 0x2ac4c520588>"
      ]
     },
     "execution_count": 28,
     "metadata": {},
     "output_type": "execute_result"
    }
   ],
   "source": [
    "model.fit(scaled_X_train, y_train, epochs=150, verbose=2)"
   ]
  },
  {
   "cell_type": "code",
   "execution_count": 29,
   "id": "nuclear-speaking",
   "metadata": {},
   "outputs": [
    {
     "data": {
      "text/plain": [
       "array([[1.4921938e-02, 5.6344610e-01, 4.2163202e-01],\n",
       "       [9.3428534e-01, 6.0828246e-02, 4.8864051e-03],\n",
       "       [1.4858154e-05, 1.4188263e-01, 8.5810256e-01],\n",
       "       [9.3024923e-03, 5.2478075e-01, 4.6591672e-01],\n",
       "       [6.5835807e-03, 5.0608623e-01, 4.8733014e-01],\n",
       "       [9.1870999e-01, 7.3936582e-02, 7.3534441e-03],\n",
       "       [5.5780187e-02, 6.2146521e-01, 3.2275462e-01],\n",
       "       [4.2120568e-04, 3.1394446e-01, 6.8563437e-01],\n",
       "       [1.5842872e-03, 3.4848222e-01, 6.4993352e-01],\n",
       "       [3.3272244e-02, 5.9179109e-01, 3.7493673e-01],\n",
       "       [1.5912374e-03, 4.1597462e-01, 5.8243418e-01],\n",
       "       [9.0337217e-01, 8.6290747e-02, 1.0337043e-02],\n",
       "       [9.2466146e-01, 6.8785012e-02, 6.5535614e-03],\n",
       "       [9.0947914e-01, 8.1345722e-02, 9.1751739e-03],\n",
       "       [9.3833625e-01, 5.7132643e-02, 4.5310953e-03],\n",
       "       [1.3188603e-02, 5.8270204e-01, 4.0410933e-01],\n",
       "       [1.7668138e-04, 2.6449800e-01, 7.3532528e-01],\n",
       "       [2.9126156e-02, 5.7063949e-01, 4.0023434e-01],\n",
       "       [1.4270989e-02, 5.5102545e-01, 4.3470359e-01],\n",
       "       [1.5921076e-04, 2.4111792e-01, 7.5872284e-01],\n",
       "       [9.1573113e-01, 7.6220065e-02, 8.0489097e-03],\n",
       "       [2.5429178e-03, 4.3493965e-01, 5.6251740e-01],\n",
       "       [9.2398739e-01, 6.9350891e-02, 6.6616922e-03],\n",
       "       [2.1165384e-04, 2.6064107e-01, 7.3914731e-01],\n",
       "       [1.1458754e-03, 4.6462762e-01, 5.3422648e-01],\n",
       "       [2.8265145e-04, 2.8362024e-01, 7.1609712e-01],\n",
       "       [2.2023288e-04, 2.5499901e-01, 7.4478078e-01],\n",
       "       [1.7966605e-04, 2.7784392e-01, 7.2197640e-01],\n",
       "       [9.0324795e-01, 8.6390816e-02, 1.0361320e-02],\n",
       "       [9.1071987e-01, 8.0333635e-02, 8.9465342e-03],\n",
       "       [9.2742878e-01, 6.6453196e-02, 6.1181206e-03],\n",
       "       [9.5443845e-01, 4.2997364e-02, 2.5642540e-03],\n",
       "       [2.2032829e-02, 6.0100794e-01, 3.7695920e-01],\n",
       "       [9.2443001e-01, 6.8979405e-02, 6.5906001e-03],\n",
       "       [9.1279721e-01, 7.8632541e-02, 8.5702678e-03],\n",
       "       [4.5699094e-04, 2.8402999e-01, 7.1551299e-01],\n",
       "       [1.8438356e-02, 5.9772503e-01, 3.8383660e-01],\n",
       "       [9.2698276e-01, 6.6830076e-02, 6.1871442e-03],\n",
       "       [9.3040782e-01, 6.3928671e-02, 5.6636045e-03],\n",
       "       [9.4780654e-01, 4.8865706e-02, 3.3278307e-03],\n",
       "       [6.3519826e-04, 3.1689459e-01, 6.8247020e-01],\n",
       "       [2.1739189e-02, 6.1732018e-01, 3.6094072e-01],\n",
       "       [1.1158186e-02, 5.6205672e-01, 4.2678514e-01],\n",
       "       [9.3978804e-01, 5.5876020e-02, 4.3359417e-03],\n",
       "       [9.3439054e-01, 6.0528729e-02, 5.0806967e-03],\n",
       "       [4.0958498e-02, 5.8129817e-01, 3.7774327e-01],\n",
       "       [3.2297561e-03, 4.5093980e-01, 5.4583049e-01],\n",
       "       [1.4303995e-03, 4.1181308e-01, 5.8675641e-01],\n",
       "       [1.7869696e-02, 5.8275086e-01, 3.9937943e-01],\n",
       "       [1.9002070e-04, 3.0545372e-01, 6.9435632e-01]], dtype=float32)"
      ]
     },
     "execution_count": 29,
     "metadata": {},
     "output_type": "execute_result"
    }
   ],
   "source": [
    "model.predict(scaled_X_test)"
   ]
  },
  {
   "cell_type": "code",
   "execution_count": 30,
   "id": "dressed-reconstruction",
   "metadata": {},
   "outputs": [
    {
     "data": {
      "text/plain": [
       "array([1, 0, 2, 1, 1, 0, 1, 2, 2, 1, 2, 0, 0, 0, 0, 1, 2, 1, 1, 2, 0, 2,\n",
       "       0, 2, 2, 2, 2, 2, 0, 0, 0, 0, 1, 0, 0, 2, 1, 0, 0, 0, 2, 1, 1, 0,\n",
       "       0, 1, 2, 2, 1, 2], dtype=int64)"
      ]
     },
     "execution_count": 30,
     "metadata": {},
     "output_type": "execute_result"
    }
   ],
   "source": [
    "model.predict_classes(scaled_X_test)"
   ]
  },
  {
   "cell_type": "code",
   "execution_count": 32,
   "id": "italic-vertical",
   "metadata": {},
   "outputs": [
    {
     "data": {
      "text/plain": [
       "array([1, 0, 2, 1, 1, 0, 1, 2, 1, 1, 2, 0, 0, 0, 0, 1, 2, 1, 1, 2, 0, 2,\n",
       "       0, 2, 2, 2, 2, 2, 0, 0, 0, 0, 1, 0, 0, 2, 1, 0, 0, 0, 2, 1, 1, 0,\n",
       "       0, 1, 2, 2, 1, 2], dtype=int64)"
      ]
     },
     "execution_count": 32,
     "metadata": {},
     "output_type": "execute_result"
    }
   ],
   "source": [
    "y_pred = model.predict_classes(scaled_X_test)\n",
    "y_test.argmax(axis=1)"
   ]
  },
  {
   "cell_type": "code",
   "execution_count": 33,
   "id": "isolated-bullet",
   "metadata": {},
   "outputs": [
    {
     "name": "stdout",
     "output_type": "stream",
     "text": [
      "              precision    recall  f1-score   support\n",
      "\n",
      "           0       1.00      1.00      1.00        19\n",
      "           1       1.00      0.93      0.97        15\n",
      "           2       0.94      1.00      0.97        16\n",
      "\n",
      "   micro avg       0.98      0.98      0.98        50\n",
      "   macro avg       0.98      0.98      0.98        50\n",
      "weighted avg       0.98      0.98      0.98        50\n",
      "\n"
     ]
    }
   ],
   "source": [
    "from sklearn.metrics import classification_report\n",
    "\n",
    "print(classification_report(y_test.argmax(axis=1), y_pred))"
   ]
  },
  {
   "cell_type": "code",
   "execution_count": 34,
   "id": "careful-quilt",
   "metadata": {},
   "outputs": [],
   "source": [
    "model.save('my_model.h5')    # save all the weights of the model"
   ]
  },
  {
   "cell_type": "code",
   "execution_count": 36,
   "id": "latest-judgment",
   "metadata": {},
   "outputs": [],
   "source": [
    "from keras.models import load_model\n",
    "new_model = load_model('my_model.h5')"
   ]
  },
  {
   "cell_type": "code",
   "execution_count": null,
   "id": "broke-joining",
   "metadata": {},
   "outputs": [],
   "source": []
  }
 ],
 "metadata": {
  "kernelspec": {
   "display_name": "Python 3",
   "language": "python",
   "name": "python3"
  },
  "language_info": {
   "codemirror_mode": {
    "name": "ipython",
    "version": 3
   },
   "file_extension": ".py",
   "mimetype": "text/x-python",
   "name": "python",
   "nbconvert_exporter": "python",
   "pygments_lexer": "ipython3",
   "version": "3.7.9"
  }
 },
 "nbformat": 4,
 "nbformat_minor": 5
}
