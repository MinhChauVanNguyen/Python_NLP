{
 "cells": [
  {
   "cell_type": "code",
   "execution_count": 1,
   "metadata": {},
   "outputs": [
    {
     "name": "stderr",
     "output_type": "stream",
     "text": [
      "/Library/Frameworks/Python.framework/Versions/3.8/lib/python3.8/site-packages/spacy/util.py:275: UserWarning: [W031] Model 'en_core_web_sm' (2.2.0) requires spaCy v2.2 and is incompatible with the current spaCy version (2.3.5). This may lead to unexpected results or runtime errors. To resolve this, download a newer compatible model or retrain your custom model with the current spaCy version. For more details and available updates, run: python -m spacy validate\n",
      "  warnings.warn(warn_msg)\n"
     ]
    }
   ],
   "source": [
    "import spacy\n",
    "nlp = spacy.load(\"en_core_web_sm\")"
   ]
  },
  {
   "cell_type": "code",
   "execution_count": 2,
   "metadata": {},
   "outputs": [],
   "source": [
    "doc1 = nlp(u\"I am a runner running in a race because I love to run since I ran today\")"
   ]
  },
  {
   "cell_type": "code",
   "execution_count": 9,
   "metadata": {},
   "outputs": [],
   "source": [
    "def show_lemma(text):\n",
    "    for token in text:\n",
    "        print(f'{token.text:{12}}{token.pos_:{6}}{token.lemma:<{22}}{token.lemma_}')"
   ]
  },
  {
   "cell_type": "code",
   "execution_count": 10,
   "metadata": {},
   "outputs": [
    {
     "name": "stdout",
     "output_type": "stream",
     "text": [
      "I           PRON  561228191312463089    -PRON-\n",
      "saw         VERB  11925638236994514241  see\n",
      "ten         NUM   7970704286052693043   ten\n",
      "mice        NOUN  1384165645700560590   mouse\n",
      "today       NOUN  11042482332948150395  today\n"
     ]
    }
   ],
   "source": [
    "doc2 = nlp(u\"I saw ten mice today\")\n",
    "show_lemma(doc2)"
   ]
  },
  {
   "cell_type": "code",
   "execution_count": 14,
   "metadata": {},
   "outputs": [
    {
     "name": "stdout",
     "output_type": "stream",
     "text": [
      "{'since', 'your', 'me', 'and', 'hundred', 'thereby', 'ten', '’d', 'now', 'whence', 'will', 'most', 'see', 'moreover', 'towards', 'as', 'through', 'much', 'made', '’s', 'does', 'amongst', '’ll', 'say', 'done', 'being', 'per', 'whither', 'quite', 'we', 'been', 'ourselves', 'full', 'sometimes', 'thence', 'my', 'six', 'its', 'you', 'which', 'these', 'own', 'somewhere', 'it', 'few', '’m', 'thus', 'seem', 'without', 'someone', 'himself', 'get', 'empty', 'regarding', 're', 'itself', 'could', 'already', 'behind', 'less', 'thereafter', 'former', 'hereafter', 'here', 'together', 'many', 'into', 'therefore', 'nine', 'every', 'is', 'upon', 'rather', 'along', 'becoming', 'name', 'that', 'go', 'ours', 'whereas', 'fifty', 'side', 'whatever', 'another', 'eight', 'an', 'part', 'can', \"'m\", 'who', 'whom', 'really', 'down', 'even', 'whether', 'anyway', 'take', 'should', 'herself', 'had', 'anyone', 'because', 'besides', 'until', 'they', 'must', 'up', 'some', 'hereby', 'after', 'then', 'nothing', 'yet', 'hers', '‘ll', 'seems', 'two', 'nobody', 'n’t', 'to', 'afterwards', 'namely', 'ever', 'so', 'might', 'whereby', 'else', 'serious', 'the', 'became', 'hereupon', 'among', 'what', \"'s\", 'his', 'first', 'did', 'if', 'mine', 'please', 'beside', 'back', 'below', 'herein', 'n‘t', 'somehow', 'except', 'has', 'bottom', 'therein', \"'ve\", 'yours', 'there', 'him', 'next', 'before', 'top', 'them', 'off', \"'ll\", 'out', 'via', 'none', 'in', 'cannot', 'everything', 'enough', 'would', 'across', 'about', 'or', 'us', 'of', 'from', 'nor', 'under', 'also', 'least', '’re', 'a', 'wherein', 'anyhow', 'five', 'yourself', 'between', 'only', 'whenever', 'fifteen', 'toward', 'their', 'throughout', 'be', 'last', 'our', 'three', 'very', 'for', 'with', 'show', 'whole', 'each', 'often', 'thereupon', 'may', 'against', 'never', 'alone', 'neither', 'well', 'beyond', 'becomes', 'mostly', 'too', '’ve', 'she', 'he', 'move', 'seemed', \"'re\", 'meanwhile', 'such', 'either', 'on', 'whereafter', '‘d', 'always', 'her', 'nowhere', 'whose', 'give', 'still', 'various', 'but', 'than', 'above', 'all', 'hence', 'seeming', 'latter', 'otherwise', 'by', 'not', 'more', 'put', 'sometime', 'onto', '‘re', 'i', 'perhaps', 'forty', 'around', 'become', 'anywhere', 'both', '‘ve', 'this', 'keep', 'several', 'yourselves', 'noone', 'due', 'was', 'why', 'are', '‘m', 'unless', 'whoever', 'although', 'within', 'twelve', 'when', 'further', \"n't\", 'once', 'nevertheless', 'four', 'no', 'where', 'doing', 'same', 'during', 'am', 'twenty', 'used', 'though', 'have', 'elsewhere', 'others', 'again', 'everywhere', 'one', 'myself', 'make', 'do', 'at', 'how', 'thru', 'just', 'sixty', 'indeed', 'themselves', 'those', 'using', 'anything', 'wherever', 'however', 'were', 'beforehand', 'whereupon', 'any', 'front', 'other', 'eleven', 'formerly', 'amount', 'over', 'almost', 'everyone', \"'d\", 'while', '‘s', 'ca', 'latterly', 'something', 'third', 'call'}\n"
     ]
    }
   ],
   "source": [
    "len(nlp.Defaults.stop_words)\n",
    "print(nlp.Defaults.stop_words)"
   ]
  },
  {
   "cell_type": "code",
   "execution_count": 13,
   "metadata": {},
   "outputs": [
    {
     "data": {
      "text/plain": [
       "True"
      ]
     },
     "execution_count": 13,
     "metadata": {},
     "output_type": "execute_result"
    }
   ],
   "source": [
    "nlp.vocab['is'].is_stop"
   ]
  },
  {
   "cell_type": "code",
   "execution_count": 15,
   "metadata": {},
   "outputs": [],
   "source": [
    "nlp.Defaults.stop_words.add('btw')"
   ]
  },
  {
   "cell_type": "code",
   "execution_count": 16,
   "metadata": {},
   "outputs": [],
   "source": [
    "nlp.vocab['btw'].is_stop = True"
   ]
  },
  {
   "cell_type": "code",
   "execution_count": 17,
   "metadata": {},
   "outputs": [
    {
     "data": {
      "text/plain": [
       "True"
      ]
     },
     "execution_count": 17,
     "metadata": {},
     "output_type": "execute_result"
    }
   ],
   "source": [
    "nlp.vocab['btw'].is_stop"
   ]
  },
  {
   "cell_type": "code",
   "execution_count": 18,
   "metadata": {},
   "outputs": [],
   "source": [
    "nlp.Defaults.stop_words.remove('beyond')\n",
    "nlp.vocab['beyond'].is_stop = False"
   ]
  },
  {
   "cell_type": "code",
   "execution_count": 19,
   "metadata": {},
   "outputs": [
    {
     "data": {
      "text/plain": [
       "False"
      ]
     },
     "execution_count": 19,
     "metadata": {},
     "output_type": "execute_result"
    }
   ],
   "source": [
    "nlp.vocab['beyond'].is_stop"
   ]
  },
  {
   "cell_type": "code",
   "execution_count": null,
   "metadata": {},
   "outputs": [],
   "source": []
  }
 ],
 "metadata": {
  "kernelspec": {
   "display_name": "Python 3",
   "language": "python",
   "name": "python3"
  },
  "language_info": {
   "codemirror_mode": {
    "name": "ipython",
    "version": 3
   },
   "file_extension": ".py",
   "mimetype": "text/x-python",
   "name": "python",
   "nbconvert_exporter": "python",
   "pygments_lexer": "ipython3",
   "version": "3.8.5"
  }
 },
 "nbformat": 4,
 "nbformat_minor": 4
}
